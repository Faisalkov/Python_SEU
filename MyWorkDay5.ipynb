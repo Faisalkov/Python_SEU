{
 "cells": [
  {
   "cell_type": "markdown",
   "metadata": {},
   "source": [
    "# Numpy Practice "
   ]
  },
  {
   "cell_type": "markdown",
   "metadata": {},
   "source": [
    "### Do The following :\n",
    "- Finish the practice\n",
    "- share it on your github account"
   ]
  },
  {
   "cell_type": "markdown",
   "metadata": {},
   "source": [
    "#### Write the code that will produce the requested output or action as you see on the following cell"
   ]
  },
  {
   "cell_type": "code",
   "execution_count": 9,
   "metadata": {},
   "outputs": [
    {
     "name": "stdout",
     "output_type": "stream",
     "text": [
      "Hello, Mohammed\n"
     ]
    }
   ],
   "source": [
    "## For example \n",
    "## to get the output Hello, Mohammed\n",
    "print(\"Hello, Mohammed\") ## TODO"
   ]
  },
  {
   "cell_type": "code",
   "execution_count": 1,
   "metadata": {},
   "outputs": [
    {
     "name": "stdout",
     "output_type": "stream",
     "text": [
      "Hello, my name is 'Faial'\n"
     ]
    }
   ],
   "source": [
    "print(\"Hello, my name is 'Faial'\")"
   ]
  },
  {
   "cell_type": "markdown",
   "metadata": {},
   "source": [
    "### import the package numpy and make the shortcut \"np\" for it. "
   ]
  },
  {
   "cell_type": "code",
   "execution_count": 2,
   "metadata": {},
   "outputs": [
    {
     "name": "stdout",
     "output_type": "stream",
     "text": [
      "Requirement already satisfied: numpy in c:\\users\\faisal\\anaconda3\\envs\\bootcamp\\lib\\site-packages (1.19.2)\n"
     ]
    }
   ],
   "source": [
    "## TODO\n",
    "\n",
    "!pip install numpy\n",
    "import numpy as np"
   ]
  },
  {
   "cell_type": "markdown",
   "metadata": {},
   "source": [
    "#### define a numpy array [1, 2, 3, 4, 5] and assign it to variable x "
   ]
  },
  {
   "cell_type": "code",
   "execution_count": 3,
   "metadata": {},
   "outputs": [],
   "source": [
    "## TODO\n",
    "\n",
    "x = np.array([1,2,3,4,5])"
   ]
  },
  {
   "cell_type": "markdown",
   "metadata": {},
   "source": [
    "### Print x "
   ]
  },
  {
   "cell_type": "code",
   "execution_count": 4,
   "metadata": {},
   "outputs": [
    {
     "name": "stdout",
     "output_type": "stream",
     "text": [
      "[1 2 3 4 5]\n"
     ]
    }
   ],
   "source": [
    "## TODO \n",
    "print (x)"
   ]
  },
  {
   "cell_type": "markdown",
   "metadata": {},
   "source": [
    "### Print the mean of x using numpy "
   ]
  },
  {
   "cell_type": "code",
   "execution_count": 5,
   "metadata": {},
   "outputs": [
    {
     "name": "stdout",
     "output_type": "stream",
     "text": [
      "The mean is: 3.0\n"
     ]
    }
   ],
   "source": [
    "## TODO\n",
    "print (f\"The mean is: {x.mean()}\")"
   ]
  },
  {
   "cell_type": "markdown",
   "metadata": {},
   "source": [
    "### Print the maximum number in array x"
   ]
  },
  {
   "cell_type": "code",
   "execution_count": 7,
   "metadata": {},
   "outputs": [
    {
     "name": "stdout",
     "output_type": "stream",
     "text": [
      "The maximum is: 5\n"
     ]
    }
   ],
   "source": [
    "## TODO \n",
    "print (f\"The maximum is: {x.max()}\")"
   ]
  },
  {
   "cell_type": "markdown",
   "metadata": {},
   "source": [
    "### Generate a random number between 35 and 40"
   ]
  },
  {
   "cell_type": "code",
   "execution_count": 10,
   "metadata": {},
   "outputs": [
    {
     "data": {
      "text/plain": [
       "35"
      ]
     },
     "execution_count": 10,
     "metadata": {},
     "output_type": "execute_result"
    }
   ],
   "source": [
    "## TODO \n",
    "#choose intger or float numbers\n",
    "rand = np.random.default_rng()\n",
    "\n",
    "#rand.random.uniform(35,40) # float\n",
    "\n",
    "np.random.randint(35,40)  # int"
   ]
  },
  {
   "cell_type": "markdown",
   "metadata": {},
   "source": [
    "### generate a list (N) of 1000 numbers with random values between 100 and 150  "
   ]
  },
  {
   "cell_type": "code",
   "execution_count": 11,
   "metadata": {},
   "outputs": [
    {
     "data": {
      "text/plain": [
       "array([132, 143, 104, 102, 106, 103, 142, 126, 117, 133, 141, 149, 141,\n",
       "       112, 104, 135, 115, 140, 111, 113, 100, 116, 143, 122, 100, 114,\n",
       "       104, 138, 102, 114, 141, 108, 136, 104, 139, 130, 116, 111, 111,\n",
       "       143, 148, 136, 102, 115, 101, 135, 146, 101, 141, 141, 130, 138,\n",
       "       102, 136, 140, 115, 126, 105, 113, 116, 140, 116, 133, 137, 142,\n",
       "       139, 109, 145, 106, 127, 123, 143, 145, 125, 115, 104, 105, 128,\n",
       "       128, 122, 121, 116, 124, 144, 131, 123, 136, 118, 142, 137, 137,\n",
       "       120, 135, 142, 140, 141, 134, 124, 111, 109, 131, 125, 125, 145,\n",
       "       141, 116, 143, 124, 132, 138, 143, 138, 115, 123, 143, 103, 102,\n",
       "       135, 135, 133, 111, 148, 143, 146, 135, 133, 141, 147, 143, 147,\n",
       "       145, 123, 101, 105, 137, 145, 133, 139, 134, 139, 142, 140, 128,\n",
       "       101, 107, 114, 145, 127, 116, 125, 141, 108, 146, 109, 125, 146,\n",
       "       111, 149, 120, 143, 100, 146, 149, 112, 134, 130, 111, 125, 146,\n",
       "       102, 112, 104, 128, 140, 133, 135, 127, 111, 140, 135, 140, 115,\n",
       "       115, 138, 110, 101, 126, 121, 148, 107, 114, 112, 101, 138, 141,\n",
       "       106, 126, 109, 147, 101, 112, 126, 111, 109, 140, 106, 114, 110,\n",
       "       116, 118, 147, 140, 114, 109, 112, 133, 137, 101, 100, 132, 100,\n",
       "       108, 139, 114, 128, 127, 133, 147, 114, 102, 124, 125, 135, 148,\n",
       "       147, 143, 125, 141, 109, 119, 111, 120, 149, 133, 123, 144, 106,\n",
       "       100, 148, 103, 107, 107, 104, 131, 111, 142, 128, 137, 137, 105,\n",
       "       133, 105, 113, 125, 140, 146, 141, 138, 138, 101, 107, 123, 130,\n",
       "       129, 129, 104, 143, 143, 125, 128, 137, 143, 111, 122, 144, 136,\n",
       "       118, 128, 145, 110, 133, 129, 123, 142, 126, 141, 101, 127, 136,\n",
       "       129, 139, 124, 117, 107, 111, 140, 105, 112, 123, 142, 145, 110,\n",
       "       141, 105, 149, 134, 114, 121, 100, 108, 146, 114, 147, 101, 102,\n",
       "       108, 132, 113, 144, 101, 145, 141, 134, 114, 114, 107, 138, 135,\n",
       "       147, 105, 124, 115, 141, 114, 123, 134, 132, 113, 141, 121, 145,\n",
       "       128, 132, 100, 105, 134, 136, 108, 113, 119, 147, 113, 127, 139,\n",
       "       117, 116, 117, 135, 117, 115, 129, 120, 114, 127, 112, 118, 108,\n",
       "       107, 112, 148, 104, 125, 142, 123, 110, 101, 111, 149, 117, 140,\n",
       "       143, 143, 102, 126, 106, 130, 129, 139, 117, 145, 113, 133, 116,\n",
       "       110, 109, 129, 129, 111, 129, 144, 112, 131, 117, 116, 143, 103,\n",
       "       109, 109, 105, 114, 109, 131, 102, 107, 133, 116, 100, 137, 135,\n",
       "       127, 129, 108, 113, 134, 147, 147, 110, 116, 125, 145, 131, 145,\n",
       "       109, 103, 119, 137, 141, 146, 113, 118, 131, 104, 133, 103, 134,\n",
       "       126, 119, 137, 125, 106, 114, 116, 119, 121, 134, 125, 109, 105,\n",
       "       138, 117, 105, 120, 124, 129, 148, 147, 133, 118, 137, 123, 110,\n",
       "       127, 147, 144, 129, 137, 106, 108, 126, 118, 127, 135, 137, 129,\n",
       "       134, 105, 147, 119, 140, 106, 118, 100, 105, 124, 141, 145, 113,\n",
       "       104, 131, 119, 100, 142, 136, 123, 127, 114, 121, 132, 118, 146,\n",
       "       117, 102, 149, 146, 117, 102, 121, 100, 137, 129, 134, 108, 136,\n",
       "       143, 110, 111, 133, 124, 113, 125, 111, 144, 106, 118, 144, 146,\n",
       "       112, 131, 121, 124, 139, 108, 120, 101, 105, 123, 110, 107, 103,\n",
       "       108, 108, 113, 125, 102, 124, 143, 135, 117, 136, 113, 139, 113,\n",
       "       122, 109, 118, 111, 148, 104, 106, 101, 109, 127, 107, 127, 103,\n",
       "       105, 111, 118, 138, 130, 131, 102, 137, 111, 127, 109, 100, 109,\n",
       "       147, 149, 115, 111, 116, 128, 146, 121, 106, 112, 144, 145, 125,\n",
       "       137, 128, 122, 148, 109, 138, 138, 138, 123, 135, 137, 134, 140,\n",
       "       140, 141, 126, 114, 131, 144, 116, 124, 112, 120, 114, 123, 115,\n",
       "       112, 106, 119, 130, 131, 119, 104, 113, 121, 107, 103, 136, 117,\n",
       "       103, 103, 136, 101, 132, 139, 142, 110, 113, 110, 111, 114, 147,\n",
       "       146, 148, 113, 130, 115, 118, 100, 134, 145, 108, 115, 145, 147,\n",
       "       141, 134, 137, 136, 138, 127, 118, 140, 135, 139, 124, 113, 106,\n",
       "       146, 146, 128, 105, 129, 123, 108, 101, 146, 107, 108, 135, 145,\n",
       "       120, 143, 127, 128, 147, 125, 134, 146, 105, 117, 125, 120, 115,\n",
       "       106, 131, 143, 142, 109, 147, 118, 147, 108, 147, 116, 123, 106,\n",
       "       116, 119, 117, 121, 149, 113, 120, 104, 119, 104, 115, 118, 125,\n",
       "       141, 107, 118, 134, 126, 142, 111, 113, 144, 108, 130, 143, 126,\n",
       "       132, 139, 143, 141, 131, 126, 134, 107, 122, 139, 111, 138, 125,\n",
       "       146, 120, 147, 119, 144, 131, 104, 133, 144, 138, 116, 110, 116,\n",
       "       114, 104, 132, 120, 127, 148, 122, 115, 146, 143, 147, 113, 115,\n",
       "       118, 101, 144, 138, 141, 123, 126, 142, 133, 117, 121, 120, 121,\n",
       "       112, 142, 114, 105, 114, 123, 110, 103, 146, 131, 123, 112, 138,\n",
       "       116, 149, 115, 105, 134, 102, 114, 137, 139, 123, 133, 145, 147,\n",
       "       115, 122, 105, 127, 144, 139, 102, 100, 138, 139, 120, 114, 140,\n",
       "       132, 114, 100, 103, 145, 101, 146, 128, 140, 121, 107, 121, 103,\n",
       "       102, 114, 125, 142, 120, 109, 141, 124, 106, 127, 123, 148, 104,\n",
       "       133, 138, 105, 125, 149, 148, 113, 139, 144, 115, 142, 138, 123,\n",
       "       129, 120, 118, 124, 149, 137, 143, 115, 116, 121, 123, 146, 111,\n",
       "       120, 112, 122, 126, 137, 128, 119, 110, 126, 105, 106, 107, 125,\n",
       "       142, 112, 125, 144, 100, 149, 126, 105, 112, 109, 111, 114, 138,\n",
       "       143, 108, 128, 131, 124, 149, 114, 148, 116, 109, 127, 132, 113,\n",
       "       143, 120, 148, 132, 125, 122, 116, 105, 120, 129, 148, 146, 147,\n",
       "       129, 144, 136, 128, 145, 138, 148, 110, 130, 112, 104, 141, 137,\n",
       "       117, 127, 108, 145, 100, 125, 137, 107, 136, 102, 123, 103, 123,\n",
       "       130, 135, 148, 139, 111, 116, 149, 135, 117, 145, 105, 113, 121,\n",
       "       105, 141, 103, 146, 131, 121, 140, 101, 119, 123, 132, 115])"
      ]
     },
     "execution_count": 11,
     "metadata": {},
     "output_type": "execute_result"
    }
   ],
   "source": [
    "## TODO \n",
    "#choose intger or float numbers \n",
    "\n",
    "# N = rand.random.uniform(low = 100, high = 150, size= 1000) # float\n",
    "\n",
    "N = np.random.randint(100,150,size =(1000))                # int\n",
    "\n",
    "N"
   ]
  },
  {
   "cell_type": "markdown",
   "metadata": {},
   "source": [
    "### get the mean, median, std, and variance of the list N "
   ]
  },
  {
   "cell_type": "code",
   "execution_count": 12,
   "metadata": {},
   "outputs": [
    {
     "name": "stdout",
     "output_type": "stream",
     "text": [
      "The Mean is 124.607\n",
      "The Median is 124.0\n",
      "The std is 14.568477991883709\n",
      "The variance is 212.240551\n"
     ]
    }
   ],
   "source": [
    "## TODO \n",
    "print(f'The Mean is {np.mean(N)}')\n",
    "print(f'The Median is {np.median(N)}')\n",
    "print(f'The std is {np.std(N)}')\n",
    "print(f'The variance is {np.var(N)}')"
   ]
  },
  {
   "cell_type": "markdown",
   "metadata": {},
   "source": [
    "### generate a 2D array of size 3 x 4 of random numbers between 18-65 "
   ]
  },
  {
   "cell_type": "code",
   "execution_count": 13,
   "metadata": {},
   "outputs": [
    {
     "data": {
      "text/plain": [
       "array([[36, 29, 26, 45],\n",
       "       [42, 61, 34, 28],\n",
       "       [50, 21, 57, 19]])"
      ]
     },
     "execution_count": 13,
     "metadata": {},
     "output_type": "execute_result"
    }
   ],
   "source": [
    "##TODO \n",
    "#choose intger or float numbers\n",
    "\n",
    "ary1 = np.random.randint(18,65,size=(3,4)) #int\n",
    "\n",
    "#ary1 = rng.uniform(low=18, high=65, size=(3,4)) #float\n",
    "\n",
    "ary1"
   ]
  },
  {
   "cell_type": "markdown",
   "metadata": {
    "collapsed": true
   },
   "source": [
    "### Get the mean for every columns N"
   ]
  },
  {
   "cell_type": "code",
   "execution_count": 15,
   "metadata": {},
   "outputs": [
    {
     "name": "stdout",
     "output_type": "stream",
     "text": [
      "The First column 42.666666666666664\n",
      "The Second column 37.0\n",
      "The Thered column 39.0\n"
     ]
    },
    {
     "data": {
      "text/plain": [
       "array([[36, 29, 26, 45],\n",
       "       [42, 61, 34, 28],\n",
       "       [50, 21, 57, 19]])"
      ]
     },
     "execution_count": 15,
     "metadata": {},
     "output_type": "execute_result"
    }
   ],
   "source": [
    "## TODO\n",
    "\n",
    "colm = ary1.mean(axis = 0)\n",
    "print(f'The First column {colm[0]}') \n",
    "\n",
    "print(f'The Second column {colm[1]}')\n",
    "\n",
    "print(f'The Thered column {colm[2]}')\n",
    "\n",
    "ary1"
   ]
  },
  {
   "cell_type": "markdown",
   "metadata": {},
   "source": [
    "### Get the mean for every row of N \n"
   ]
  },
  {
   "cell_type": "code",
   "execution_count": 16,
   "metadata": {},
   "outputs": [
    {
     "name": "stdout",
     "output_type": "stream",
     "text": [
      "The First row  34.0\n",
      "The Second row 41.25\n",
      "The Thered row 36.75\n"
     ]
    },
    {
     "data": {
      "text/plain": [
       "array([[36, 29, 26, 45],\n",
       "       [42, 61, 34, 28],\n",
       "       [50, 21, 57, 19]])"
      ]
     },
     "execution_count": 16,
     "metadata": {},
     "output_type": "execute_result"
    }
   ],
   "source": [
    "## TODO\n",
    "\n",
    "Row = ary1.mean(axis = 1)\n",
    "print(f'The First row  {Row[0]}') \n",
    "\n",
    "print(f'The Second row {Row[1]}')\n",
    "\n",
    "print(f'The Thered row {Row[2]}')\n",
    "\n",
    "ary1"
   ]
  },
  {
   "cell_type": "markdown",
   "metadata": {},
   "source": [
    "### Create the following 2D array (S) of students grade in a classroom\n",
    "- grades [coursework, midterm exam, final exam]\n",
    "- [20, 15, 40]\n",
    "- [25, 24, 35]\n",
    "- [21, 15, 25]"
   ]
  },
  {
   "cell_type": "code",
   "execution_count": 17,
   "metadata": {},
   "outputs": [
    {
     "data": {
      "text/plain": [
       "array([[20, 15, 40],\n",
       "       [25, 24, 35],\n",
       "       [21, 15, 25]])"
      ]
     },
     "execution_count": 17,
     "metadata": {},
     "output_type": "execute_result"
    }
   ],
   "source": [
    "## TODO\n",
    "\n",
    "S = np.array([[20, 15, 40],[25, 24, 35],[21, 15, 25],])\n",
    "\n",
    "S"
   ]
  },
  {
   "cell_type": "markdown",
   "metadata": {},
   "source": [
    "### Get the sums of student grades in S"
   ]
  },
  {
   "cell_type": "code",
   "execution_count": 21,
   "metadata": {},
   "outputs": [
    {
     "name": "stdout",
     "output_type": "stream",
     "text": [
      "Stud1 = 75\n",
      "Stud2 = 84\n",
      "Stud3 = 61\n"
     ]
    }
   ],
   "source": [
    "## TODO\n",
    "\n",
    "mark = S.sum(axis = 1)\n",
    "\n",
    "print('Stud1 =',mark[0])\n",
    "print('Stud2 =',mark[1])\n",
    "print('Stud3 =',mark[2])"
   ]
  },
  {
   "cell_type": "markdown",
   "metadata": {},
   "source": [
    "### Get the means of student grades in every activity (coursework, midterm exam, final exam) in S"
   ]
  },
  {
   "cell_type": "code",
   "execution_count": 22,
   "metadata": {},
   "outputs": [
    {
     "name": "stdout",
     "output_type": "stream",
     "text": [
      "The Mean of Coursework 22.0\n",
      "The Mean of Midterm exam 18.0\n",
      "The Mean of Final exam 33.333333333333336\n"
     ]
    },
    {
     "data": {
      "text/plain": [
       "array([[20, 15, 40],\n",
       "       [25, 24, 35],\n",
       "       [21, 15, 25]])"
      ]
     },
     "execution_count": 22,
     "metadata": {},
     "output_type": "execute_result"
    }
   ],
   "source": [
    "## TODO\n",
    "\n",
    "totalMarks = S.mean(axis = 0)\n",
    "\n",
    "print(f\"The Mean of Coursework {totalMarks[0]}\")\n",
    "print(f\"The Mean of Midterm exam {totalMarks[1]}\")\n",
    "print(f\"The Mean of Final exam {totalMarks[2]}\")\n",
    "S"
   ]
  },
  {
   "cell_type": "markdown",
   "metadata": {},
   "source": [
    "### reshape S in a way that make the colums represent the students and rows represent the activity, as follow\n",
    "- [20, 25, 21] \n",
    "- [15, 24, 15]\n",
    "- [40, 35, 25]"
   ]
  },
  {
   "cell_type": "code",
   "execution_count": 23,
   "metadata": {},
   "outputs": [
    {
     "data": {
      "text/plain": [
       "array([[20, 25, 21],\n",
       "       [15, 24, 15],\n",
       "       [40, 35, 25]])"
      ]
     },
     "execution_count": 23,
     "metadata": {},
     "output_type": "execute_result"
    }
   ],
   "source": [
    "## TODO\n",
    "trans = S.transpose()\n",
    "#print(\"testoutput\",b.mean(axis=1)[0])\n",
    "#print(\"testoutput\",b.mean(axis=1)[1])\n",
    "#print(\"testoutput\",b.mean(axis=1)[2])\n",
    "trans"
   ]
  },
  {
   "cell_type": "markdown",
   "metadata": {},
   "source": [
    "# Pandas Practice "
   ]
  },
  {
   "cell_type": "markdown",
   "metadata": {},
   "source": [
    "### import the package pandas and make the shortcut \"pd\" for it. "
   ]
  },
  {
   "cell_type": "code",
   "execution_count": 24,
   "metadata": {},
   "outputs": [
    {
     "name": "stdout",
     "output_type": "stream",
     "text": [
      "Requirement already satisfied: pandas in c:\\users\\faisal\\anaconda3\\envs\\bootcamp\\lib\\site-packages (1.2.0)\n",
      "Requirement already satisfied: numpy>=1.16.5 in c:\\users\\faisal\\anaconda3\\envs\\bootcamp\\lib\\site-packages (from pandas) (1.19.2)\n",
      "Requirement already satisfied: pytz>=2017.3 in c:\\users\\faisal\\anaconda3\\envs\\bootcamp\\lib\\site-packages (from pandas) (2020.5)\n",
      "Requirement already satisfied: python-dateutil>=2.7.3 in c:\\users\\faisal\\anaconda3\\envs\\bootcamp\\lib\\site-packages (from pandas) (2.8.1)\n",
      "Requirement already satisfied: six>=1.5 in c:\\users\\faisal\\anaconda3\\envs\\bootcamp\\lib\\site-packages (from python-dateutil>=2.7.3->pandas) (1.15.0)\n"
     ]
    }
   ],
   "source": [
    "## TODO\n",
    "!pip install pandas\n",
    "import pandas as pd"
   ]
  },
  {
   "cell_type": "markdown",
   "metadata": {},
   "source": [
    "### create Series call it (Data) with the values 'a','b','d','u' and 'I'"
   ]
  },
  {
   "cell_type": "code",
   "execution_count": 25,
   "metadata": {},
   "outputs": [
    {
     "data": {
      "text/plain": [
       "['a', 'b', 'd', 'u', 'I']"
      ]
     },
     "execution_count": 25,
     "metadata": {},
     "output_type": "execute_result"
    }
   ],
   "source": [
    "## TODO\n",
    "\n",
    "data = ['a','b','d','u','I']\n",
    "data"
   ]
  },
  {
   "cell_type": "markdown",
   "metadata": {},
   "source": [
    "### change index to 3,6,9,12, and 15 for (data) "
   ]
  },
  {
   "cell_type": "code",
   "execution_count": 27,
   "metadata": {},
   "outputs": [
    {
     "data": {
      "text/plain": [
       "3     a\n",
       "6     b\n",
       "9     d\n",
       "12    u\n",
       "15    I\n",
       "dtype: object"
      ]
     },
     "execution_count": 27,
     "metadata": {},
     "output_type": "execute_result"
    }
   ],
   "source": [
    "## TODO\n",
    "\n",
    "catalogue = [3,6,9,12,15]\n",
    "pd.Series(data,catalogue)"
   ]
  },
  {
   "cell_type": "markdown",
   "metadata": {},
   "source": [
    "### change index to client1, client2, client3, client4 and client5 for (data) "
   ]
  },
  {
   "cell_type": "code",
   "execution_count": 32,
   "metadata": {},
   "outputs": [
    {
     "data": {
      "text/plain": [
       "client1    a\n",
       "client2    b\n",
       "client3    d\n",
       "client4    u\n",
       "client5    I\n",
       "dtype: object"
      ]
     },
     "execution_count": 32,
     "metadata": {},
     "output_type": "execute_result"
    }
   ],
   "source": [
    "## TODO \n",
    "pd.Series(data,index=['client1','client2','client3','client4','client5'])"
   ]
  },
  {
   "cell_type": "markdown",
   "metadata": {},
   "source": [
    "### create a dataframe (D) with the followin values\n",
    "- \tName -\tAge\n",
    "-   Ali\t -  55\n",
    "- \tAhmad -\t15\n",
    "- \tNora -\t40"
   ]
  },
  {
   "cell_type": "markdown",
   "metadata": {},
   "source": [
    "### Get the means of ages of people in (D)"
   ]
  },
  {
   "cell_type": "code",
   "execution_count": 37,
   "metadata": {},
   "outputs": [
    {
     "data": {
      "text/html": [
       "<div>\n",
       "<style scoped>\n",
       "    .dataframe tbody tr th:only-of-type {\n",
       "        vertical-align: middle;\n",
       "    }\n",
       "\n",
       "    .dataframe tbody tr th {\n",
       "        vertical-align: top;\n",
       "    }\n",
       "\n",
       "    .dataframe thead th {\n",
       "        text-align: right;\n",
       "    }\n",
       "</style>\n",
       "<table border=\"1\" class=\"dataframe\">\n",
       "  <thead>\n",
       "    <tr style=\"text-align: right;\">\n",
       "      <th></th>\n",
       "      <th>Name</th>\n",
       "      <th>Age</th>\n",
       "    </tr>\n",
       "  </thead>\n",
       "  <tbody>\n",
       "    <tr>\n",
       "      <th>0</th>\n",
       "      <td>Ali</td>\n",
       "      <td>55</td>\n",
       "    </tr>\n",
       "    <tr>\n",
       "      <th>1</th>\n",
       "      <td>Ahmad</td>\n",
       "      <td>15</td>\n",
       "    </tr>\n",
       "    <tr>\n",
       "      <th>2</th>\n",
       "      <td>Nora</td>\n",
       "      <td>40</td>\n",
       "    </tr>\n",
       "  </tbody>\n",
       "</table>\n",
       "</div>"
      ],
      "text/plain": [
       "    Name  Age\n",
       "0    Ali   55\n",
       "1  Ahmad   15\n",
       "2   Nora   40"
      ]
     },
     "execution_count": 37,
     "metadata": {},
     "output_type": "execute_result"
    }
   ],
   "source": [
    "## TODO expected value is 36.66\n",
    "\n",
    "names=['Ali','Ahmad','Nora']\n",
    "ages = [55,15,40]\n",
    "D = pd.DataFrame({'Name':names,'Age':ages})\n",
    "\n",
    "D"
   ]
  },
  {
   "cell_type": "code",
   "execution_count": 39,
   "metadata": {},
   "outputs": [
    {
     "data": {
      "text/plain": [
       "Age    36.666667\n",
       "dtype: float64"
      ]
     },
     "execution_count": 39,
     "metadata": {},
     "output_type": "execute_result"
    }
   ],
   "source": [
    "np.mean(D)"
   ]
  }
 ],
 "metadata": {
  "kernelspec": {
   "display_name": "Python 3",
   "language": "python",
   "name": "python3"
  },
  "language_info": {
   "codemirror_mode": {
    "name": "ipython",
    "version": 3
   },
   "file_extension": ".py",
   "mimetype": "text/x-python",
   "name": "python",
   "nbconvert_exporter": "python",
   "pygments_lexer": "ipython3",
   "version": "3.8.5"
  }
 },
 "nbformat": 4,
 "nbformat_minor": 1
}
