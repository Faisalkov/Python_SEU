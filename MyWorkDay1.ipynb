{
 "cells": [
  {
   "cell_type": "code",
   "execution_count": 5,
   "metadata": {
    "scrolled": true
   },
   "outputs": [
    {
     "name": "stdout",
     "output_type": "stream",
     "text": [
      "Enter your Name\n",
      "Faisal\n",
      "Welcome To Python World Faisal\n"
     ]
    }
   ],
   "source": [
    "user = input (\"Enter your Name\\n\")\n",
    "print (\"Welcome To Python World\", user)"
   ]
  },
  {
   "cell_type": "code",
   "execution_count": 13,
   "metadata": {},
   "outputs": [
    {
     "name": "stdout",
     "output_type": "stream",
     "text": [
      "Enter a Number 6.3\n",
      "Enter a Second Number 5.7\n",
      "The sum of x and y =  12.0\n"
     ]
    }
   ],
   "source": [
    "x = float(input (\"Enter a Number \"))\n",
    "y = float (input (\"Enter a Second Number \"))\n",
    "print (\"The sum of x and y = \" , x + y)"
   ]
  }
 ],
 "metadata": {
  "kernelspec": {
   "display_name": "Python 3",
   "language": "python",
   "name": "python3"
  },
  "language_info": {
   "codemirror_mode": {
    "name": "ipython",
    "version": 3
   },
   "file_extension": ".py",
   "mimetype": "text/x-python",
   "name": "python",
   "nbconvert_exporter": "python",
   "pygments_lexer": "ipython3",
   "version": "3.8.5"
  }
 },
 "nbformat": 4,
 "nbformat_minor": 4
}
