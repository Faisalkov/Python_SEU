{
 "cells": [
  {
   "cell_type": "code",
   "execution_count": 2,
   "metadata": {},
   "outputs": [
    {
     "name": "stdout",
     "output_type": "stream",
     "text": [
      "Day4-16-Jan-2021-12-01\n",
      "['This is my line number 1', 'This is my line number 2', 'This is my line number 3', 'This is my line number 4']\n",
      "\n",
      " compelet.\n"
     ]
    }
   ],
   "source": [
    "import os\n",
    "from datetime import datetime\n",
    "theday = datetime.now()\n",
    "\n",
    "\n",
    "def copyfile():\n",
    "    indexList = []\n",
    "    present = theday.strftime('%d-%b-%Y-%H-%M')\n",
    "    foulder = f\"Day4-{present}\"\n",
    "    try:\n",
    "        print(foulder)\n",
    "        source = open('source.txt', 'r')\n",
    "        if not os.path.exists(foulder):\n",
    "            os.makedirs(foulder)\n",
    "        file = open(foulder+'//faisal.txt', 'w')\n",
    "        newTxt = \"Faisal\"\n",
    "        for txt in source:\n",
    "            file.write(newTxt+': '+txt)\n",
    "            indexList.append(txt.rstrip('\\n'))\n",
    "\n",
    "        source.close()\n",
    "        file.close()\n",
    "        print(indexList)\n",
    "    except:\n",
    "        print(\"\\n error!!\")\n",
    "    else:\n",
    "        print(\"\\n compelet.\")\n",
    "\n",
    "\n",
    "copyfile()"
   ]
  },
  {
   "cell_type": "code",
   "execution_count": null,
   "metadata": {},
   "outputs": [],
   "source": []
  }
 ],
 "metadata": {
  "kernelspec": {
   "display_name": "Python 3",
   "language": "python",
   "name": "python3"
  },
  "language_info": {
   "codemirror_mode": {
    "name": "ipython",
    "version": 3
   },
   "file_extension": ".py",
   "mimetype": "text/x-python",
   "name": "python",
   "nbconvert_exporter": "python",
   "pygments_lexer": "ipython3",
   "version": "3.8.5"
  }
 },
 "nbformat": 4,
 "nbformat_minor": 4
}
